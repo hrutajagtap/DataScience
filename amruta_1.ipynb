{
 "cells": [
  {
   "cell_type": "code",
   "execution_count": 1,
   "id": "d836d3d1",
   "metadata": {},
   "outputs": [
    {
     "data": {
      "text/plain": [
       "15"
      ]
     },
     "execution_count": 1,
     "metadata": {},
     "output_type": "execute_result"
    }
   ],
   "source": [
    "10+5"
   ]
  },
  {
   "cell_type": "code",
   "execution_count": 2,
   "id": "a5c1141d",
   "metadata": {},
   "outputs": [
    {
     "name": "stdout",
     "output_type": "stream",
     "text": [
      "My first datascience step\n"
     ]
    }
   ],
   "source": [
    "print (\"My first datascience step\")"
   ]
  },
  {
   "cell_type": "code",
   "execution_count": null,
   "id": "45191be6",
   "metadata": {},
   "outputs": [],
   "source": [
    "Shortcuts for jupitor notebook:\n",
    "\n",
    "Cntrl + Enter OR Shft + Enter --> to execute/Run\n",
    "Esc + A --> to insert a cell above current cell\n",
    "Esc + B --> to insert a cell below current cell\n",
    "Esc + d + d --> to delete the selected cell"
   ]
  }
 ],
 "metadata": {
  "kernelspec": {
   "display_name": "Python 3 (ipykernel)",
   "language": "python",
   "name": "python3"
  },
  "language_info": {
   "codemirror_mode": {
    "name": "ipython",
    "version": 3
   },
   "file_extension": ".py",
   "mimetype": "text/x-python",
   "name": "python",
   "nbconvert_exporter": "python",
   "pygments_lexer": "ipython3",
   "version": "3.11.5"
  }
 },
 "nbformat": 4,
 "nbformat_minor": 5
}
